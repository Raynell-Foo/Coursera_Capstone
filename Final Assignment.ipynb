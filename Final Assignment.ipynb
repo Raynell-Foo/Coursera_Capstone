{
 "cells": [
  {
   "cell_type": "markdown",
   "metadata": {},
   "source": [
    "# Define a Problem"
   ]
  },
  {
   "cell_type": "markdown",
   "metadata": {},
   "source": [
    "#### The problem"
   ]
  },
  {
   "cell_type": "markdown",
   "metadata": {},
   "source": [
    "A business selling kitchen ingredients in New York is thinking of expanding its operations to another city. It wants to open its operations in Toronto but is unsure in which neighborhood it should house its office which also doubles as a warehouse. The **ideal location** would be in a **neighborhood surrounded by the most restaurants**, that way it can maximise visibility among its potential clients as well as reduce transportation distance between the restaurants and the business' office/warehouse, which will ultimately reduce delivery cost. "
   ]
  },
  {
   "cell_type": "markdown",
   "metadata": {},
   "source": [
    "#### The Task"
   ]
  },
  {
   "cell_type": "markdown",
   "metadata": {},
   "source": [
    "To help determine the ideal location for its new office/warehouse, I have been tasked to utilise foursquare API to determine the most suitable neighborhood for the business to open in."
   ]
  },
  {
   "cell_type": "markdown",
   "metadata": {},
   "source": [
    "#### Data needed"
   ]
  },
  {
   "cell_type": "markdown",
   "metadata": {},
   "source": [
    "The data required to undertake this analysis would include:\n",
    "1. the longitude and latitude of all the neighborhoods in Toronto\n",
    "2. the longitude and latitude of all venues in Toronto\n",
    "3. the category of all venues in Toronto \n"
   ]
  },
  {
   "cell_type": "markdown",
   "metadata": {},
   "source": [
    "#### The Plan"
   ]
  },
  {
   "cell_type": "markdown",
   "metadata": {},
   "source": [
    "I will use Foursquare API to get every single venue within a 2-kilometer radius for all neighborhoods in Toronto. I will then filter the venues for restaurants, and rank the neighborhoods based on how many restaurants are within 2 kilometers of its radius. The no 1 ranking neighborhood will be recommeneded to the business to open its new operations there. "
   ]
  },
  {
   "cell_type": "code",
   "execution_count": null,
   "metadata": {},
   "outputs": [],
   "source": []
  }
 ],
 "metadata": {
  "kernelspec": {
   "display_name": "Python",
   "language": "python",
   "name": "conda-env-python-py"
  },
  "language_info": {
   "codemirror_mode": {
    "name": "ipython",
    "version": 3
   },
   "file_extension": ".py",
   "mimetype": "text/x-python",
   "name": "python",
   "nbconvert_exporter": "python",
   "pygments_lexer": "ipython3",
   "version": "3.6.10"
  }
 },
 "nbformat": 4,
 "nbformat_minor": 4
}
